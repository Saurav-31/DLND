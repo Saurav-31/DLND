{
 "cells": [
  {
   "cell_type": "markdown",
   "metadata": {
    "collapsed": true
   },
   "source": [
    "# Image Classification\n",
    "In this project, you'll classify images from the [CIFAR-10 dataset](https://www.cs.toronto.edu/~kriz/cifar.html).  The dataset consists of airplanes, dogs, cats, and other objects. You'll preprocess the images, then train a convolutional neural network on all the samples. The images need to be normalized and the labels need to be one-hot encoded.  You'll get to apply what you learned and build a convolutional, max pooling, dropout, and fully connected layers.  At the end, you'll get to see your neural network's predictions on the sample images.\n",
    "## Get the Data\n",
    "Run the following cell to download the [CIFAR-10 dataset for python](https://www.cs.toronto.edu/~kriz/cifar-10-python.tar.gz)."
   ]
  },
  {
   "cell_type": "code",
   "execution_count": 3,
   "metadata": {},
   "outputs": [
    {
     "name": "stderr",
     "output_type": "stream",
     "text": [
      "CIFAR-10 Dataset: 171MB [10:58, 259kB/s]                                \n"
     ]
    },
    {
     "name": "stdout",
     "output_type": "stream",
     "text": [
      "All files found!\n"
     ]
    }
   ],
   "source": [
    "\"\"\"\n",
    "DON'T MODIFY ANYTHING IN THIS CELL THAT IS BELOW THIS LINE\n",
    "\"\"\"\n",
    "from urllib.request import urlretrieve\n",
    "from os.path import isfile, isdir\n",
    "from tqdm import tqdm\n",
    "import problem_unittests as tests\n",
    "import tarfile\n",
    "\n",
    "cifar10_dataset_folder_path = 'cifar-10-batches-py'\n",
    "\n",
    "class DLProgress(tqdm):\n",
    "    last_block = 0\n",
    "\n",
    "    def hook(self, block_num=1, block_size=1, total_size=None):\n",
    "        self.total = total_size\n",
    "        self.update((block_num - self.last_block) * block_size)\n",
    "        self.last_block = block_num\n",
    "\n",
    "if not isfile('cifar-10-python.tar.gz'):\n",
    "    with DLProgress(unit='B', unit_scale=True, miniters=1, desc='CIFAR-10 Dataset') as pbar:\n",
    "        urlretrieve(\n",
    "            'https://www.cs.toronto.edu/~kriz/cifar-10-python.tar.gz',\n",
    "            'cifar-10-python.tar.gz',\n",
    "            pbar.hook)\n",
    "\n",
    "if not isdir(cifar10_dataset_folder_path):\n",
    "    with tarfile.open('cifar-10-python.tar.gz') as tar:\n",
    "        tar.extractall()\n",
    "        tar.close()\n",
    "\n",
    "\n",
    "tests.test_folder_path(cifar10_dataset_folder_path)"
   ]
  },
  {
   "cell_type": "markdown",
   "metadata": {},
   "source": [
    "## Explore the Data\n",
    "The dataset is broken into batches to prevent your machine from running out of memory.  The CIFAR-10 dataset consists of 5 batches, named `data_batch_1`, `data_batch_2`, etc.. Each batch contains the labels and images that are one of the following:\n",
    "* airplane\n",
    "* automobile\n",
    "* bird\n",
    "* cat\n",
    "* deer\n",
    "* dog\n",
    "* frog\n",
    "* horse\n",
    "* ship\n",
    "* truck\n",
    "\n",
    "Understanding a dataset is part of making predictions on the data.  Play around with the code cell below by changing the `batch_id` and `sample_id`. The `batch_id` is the id for a batch (1-5). The `sample_id` is the id for a image and label pair in the batch.\n",
    "\n",
    "Ask yourself \"What are all possible labels?\", \"What is the range of values for the image data?\", \"Are the labels in order or random?\".  Answers to questions like these will help you preprocess the data and end up with better predictions."
   ]
  },
  {
   "cell_type": "code",
   "execution_count": 4,
   "metadata": {},
   "outputs": [
    {
     "name": "stdout",
     "output_type": "stream",
     "text": [
      "\n",
      "Stats of batch 1:\n",
      "Samples: 10000\n",
      "Label Counts: {0: 1005, 1: 974, 2: 1032, 3: 1016, 4: 999, 5: 937, 6: 1030, 7: 1001, 8: 1025, 9: 981}\n",
      "First 20 Labels: [6, 9, 9, 4, 1, 1, 2, 7, 8, 3, 4, 7, 7, 2, 9, 9, 9, 3, 2, 6]\n",
      "\n",
      "Example of Image 5:\n",
      "Image - Min Value: 0 Max Value: 252\n",
      "Image - Shape: (32, 32, 3)\n",
      "Label - Label Id: 1 Name: automobile\n"
     ]
    },
    {
     "data": {
      "image/png": "[encoded data removed]",
      "text/plain": [
       "<Figure size 432x288 with 1 Axes>"
      ]
     },
     "metadata": {
      "image/png": {
       "height": 248,
       "width": 251
      },
      "needs_background": "light"
     },
     "output_type": "display_data"
    }
   ],
   "source": [
    "%matplotlib inline\n",
    "%config InlineBackend.figure_format = 'retina'\n",
    "\n",
    "import helper\n",
    "import numpy as np\n",
    "\n",
    "# Explore the dataset\n",
    "batch_id = 1\n",
    "sample_id = 5\n",
    "helper.display_stats(cifar10_dataset_folder_path, batch_id, sample_id)"
   ]
  },
  {
   "cell_type": "markdown",
   "metadata": {},
   "source": [
    "## Implement Preprocess Functions\n",
    "### Normalize\n",
    "In the cell below, implement the `normalize` function to take in image data, `x`, and return it as a normalized Numpy array. The values should be in the range of 0 to 1, inclusive.  The return object should be the same shape as `x`."
   ]
  },
  {
   "cell_type": "code",
   "execution_count": 5,
   "metadata": {},
   "outputs": [],
   "source": [
    "from sklearn import preprocessing"
   ]
  },
  {
   "cell_type": "code",
   "execution_count": 6,
   "metadata": {},
   "outputs": [
    {
     "name": "stdout",
     "output_type": "stream",
     "text": [
      "Tests Passed\n"
     ]
    }
   ],
   "source": [
    "def normalize(x):\n",
    "    \"\"\"\n",
    "    Normalize a list of sample image data in the range of 0 to 1\n",
    "    : x: List of image data.  The image shape is (32, 32, 3)\n",
    "    : return: Numpy array of normalize data\n",
    "    \"\"\"\n",
    "    # TODO: Implement Function\n",
    "    return x/255\n",
    "\n",
    "\n",
    "\"\"\"\n",
    "DON'T MODIFY ANYTHING IN THIS CELL THAT IS BELOW THIS LINE\n",
    "\"\"\"\n",
    "tests.test_normalize(normalize)"
   ]
  },
  {
   "cell_type": "markdown",
   "metadata": {},
   "source": [
    "### One-hot encode\n",
    "Just like the previous code cell, you'll be implementing a function for preprocessing.  This time, you'll implement the `one_hot_encode` function. The input, `x`, are a list of labels.  Implement the function to return the list of labels as One-Hot encoded Numpy array.  The possible values for labels are 0 to 9. The one-hot encoding function should return the same encoding for each value between each call to `one_hot_encode`.  Make sure to save the map of encodings outside the function.\n",
    "\n",
    "Hint: Don't reinvent the wheel."
   ]
  },
  {
   "cell_type": "code",
   "execution_count": 7,
   "metadata": {},
   "outputs": [
    {
     "name": "stdout",
     "output_type": "stream",
     "text": [
      "Tests Passed\n"
     ]
    }
   ],
   "source": [
    "import numpy as np\n",
    "def one_hot_encode(x):\n",
    "    \"\"\"\n",
    "    One hot encode a list of sample labels. Return a one-hot encoded vector for each label.\n",
    "    : x: List of sample Labels\n",
    "    : return: Numpy array of one-hot encoded labels\n",
    "    \"\"\"\n",
    "    # TODO: Implement Function\n",
    "    lb = preprocessing.LabelBinarizer()\n",
    "    lb.fit(np.array([[0, 0, 0,0,0,0,0,0,0,0],[0,0,0,0,0, 0,0, 0,0,0]]))\n",
    "    ohc = lb.transform(x)\n",
    "    return ohc\n",
    "\n",
    "\n",
    "\"\"\"\n",
    "DON'T MODIFY ANYTHING IN THIS CELL THAT IS BELOW THIS LINE\n",
    "\"\"\"\n",
    "tests.test_one_hot_encode(one_hot_encode)"
   ]
  },
  {
   "cell_type": "markdown",
   "metadata": {},
   "source": [
    "### Randomize Data\n",
    "As you saw from exploring the data above, the order of the samples are randomized.  It doesn't hurt to randomize it again, but you don't need to for this dataset."
   ]
  },
  {
   "cell_type": "markdown",
   "metadata": {},
   "source": [
    "## Preprocess all the data and save it\n",
    "Running the code cell below will preprocess all the CIFAR-10 data and save it to file. The code below also uses 10% of the training data for validation."
   ]
  },
  {
   "cell_type": "code",
   "execution_count": 8,
   "metadata": {},
   "outputs": [],
   "source": [
    "\"\"\"\n",
    "DON'T MODIFY ANYTHING IN THIS CELL\n",
    "\"\"\"\n",
    "# Preprocess Training, Validation, and Testing Data\n",
    "helper.preprocess_and_save_data(cifar10_dataset_folder_path, normalize, one_hot_encode)"
   ]
  },
  {
   "cell_type": "markdown",
   "metadata": {},
   "source": [
    "# Check Point\n",
    "This is your first checkpoint.  If you ever decide to come back to this notebook or have to restart the notebook, you can start from here.  The preprocessed data has been saved to disk."
   ]
  },
  {
   "cell_type": "code",
   "execution_count": 9,
   "metadata": {},
   "outputs": [],
   "source": [
    "\"\"\"\n",
    "DON'T MODIFY ANYTHING IN THIS CELL\n",
    "\"\"\"\n",
    "import pickle\n",
    "import problem_unittests as tests\n",
    "import helper\n",
    "\n",
    "# Load the Preprocessed Validation data\n",
    "valid_features, valid_labels = pickle.load(open('preprocess_validation.p', mode='rb'))"
   ]
  },
  {
   "cell_type": "code",
   "execution_count": 10,
   "metadata": {},
   "outputs": [
    {
     "data": {
      "text/plain": [
       "array([[0, 0, 0, ..., 0, 0, 0],\n",
       "       [0, 0, 1, ..., 0, 0, 0],\n",
       "       [0, 0, 1, ..., 0, 0, 0],\n",
       "       ...,\n",
       "       [0, 0, 0, ..., 0, 0, 1],\n",
       "       [0, 1, 0, ..., 0, 0, 0],\n",
       "       [0, 1, 0, ..., 0, 0, 0]])"
      ]
     },
     "execution_count": 10,
     "metadata": {},
     "output_type": "execute_result"
    }
   ],
   "source": [
    "valid_labels"
   ]
  },
  {
   "cell_type": "markdown",
   "metadata": {},
   "source": [
    "## Build the network\n",
    "For the neural network, you'll build each layer into a function.  Most of the code you've seen has been outside of functions. To test your code more thoroughly, we require that you put each layer in a function.  This allows us to give you better feedback and test for simple mistakes using our unittests before you submit your project.\n",
    "\n",
    ">**Note:** If you're finding it hard to dedicate enough time for this course each week, we've provided a small shortcut to this part of the project. In the next couple of problems, you'll have the option to use classes from the [TensorFlow Layers](https://www.tensorflow.org/api_docs/python/tf/layers) or [TensorFlow Layers (contrib)](https://www.tensorflow.org/api_guides/python/contrib.layers) packages to build each layer, except the layers you build in the \"Convolutional and Max Pooling Layer\" section.  TF Layers is similar to Keras's and TFLearn's abstraction to layers, so it's easy to pickup.\n",
    "\n",
    ">However, if you would like to get the most out of this course, try to solve all the problems _without_ using anything from the TF Layers packages. You **can** still use classes from other packages that happen to have the same name as ones you find in TF Layers! For example, instead of using the TF Layers version of the `conv2d` class, [tf.layers.conv2d](https://www.tensorflow.org/api_docs/python/tf/layers/conv2d), you would want to use the TF Neural Network version of `conv2d`, [tf.nn.conv2d](https://www.tensorflow.org/api_docs/python/tf/nn/conv2d). \n",
    "\n",
    "Let's begin!\n",
    "\n",
    "### Input\n",
    "The neural network needs to read the image data, one-hot encoded labels, and dropout keep probability. Implement the following functions\n",
    "* Implement `neural_net_image_input`\n",
    " * Return a [TF Placeholder](https://www.tensorflow.org/api_docs/python/tf/placeholder)\n",
    " * Set the shape using `image_shape` with batch size set to `None`.\n",
    " * Name the TensorFlow placeholder \"x\" using the TensorFlow `name` parameter in the [TF Placeholder](https://www.tensorflow.org/api_docs/python/tf/placeholder).\n",
    "* Implement `neural_net_label_input`\n",
    " * Return a [TF Placeholder](https://www.tensorflow.org/api_docs/python/tf/placeholder)\n",
    " * Set the shape using `n_classes` with batch size set to `None`.\n",
    " * Name the TensorFlow placeholder \"y\" using the TensorFlow `name` parameter in the [TF Placeholder](https://www.tensorflow.org/api_docs/python/tf/placeholder).\n",
    "* Implement `neural_net_keep_prob_input`\n",
    " * Return a [TF Placeholder](https://www.tensorflow.org/api_docs/python/tf/placeholder) for dropout keep probability.\n",
    " * Name the TensorFlow placeholder \"keep_prob\" using the TensorFlow `name` parameter in the [TF Placeholder](https://www.tensorflow.org/api_docs/python/tf/placeholder).\n",
    "\n",
    "These names will be used at the end of the project to load your saved model.\n",
    "\n",
    "Note: `None` for shapes in TensorFlow allow for a dynamic size."
   ]
  },
  {
   "cell_type": "code",
   "execution_count": 11,
   "metadata": {},
   "outputs": [
    {
     "name": "stdout",
     "output_type": "stream",
     "text": [
      "Image Input Tests Passed.\n",
      "Label Input Tests Passed.\n",
      "Keep Prob Tests Passed.\n"
     ]
    }
   ],
   "source": [
    "import tensorflow as tf\n",
    "\n",
    "def neural_net_image_input(image_shape):\n",
    "    \"\"\"\n",
    "    Return a Tensor for a bach of image input\n",
    "    : image_shape: Shape of the images\n",
    "    : return: Tensor for image input.\n",
    "    \"\"\"\n",
    "    # TODO: Implement Function\n",
    "    shape = [None, image_shape[0], image_shape[1], image_shape[2]]\n",
    "    return tf.placeholder(tf.float32, shape= shape, name = 'x' )\n",
    "\n",
    "\n",
    "def neural_net_label_input(n_classes):\n",
    "    \"\"\"\n",
    "    Return a Tensor for a batch of label input\n",
    "    : n_classes: Number of classes\n",
    "    : return: Tensor for label input.\n",
    "    \"\"\"\n",
    "    # TODO: Implement Function\n",
    "    shape = [None, n_classes]\n",
    "    return tf.placeholder(tf.float32, shape= shape, name = 'y' )\n",
    "    \n",
    "\n",
    "\n",
    "def neural_net_keep_prob_input():\n",
    "    \"\"\"\n",
    "    Return a Tensor for keep probability\n",
    "    : return: Tensor for keep probability.\n",
    "    \"\"\"\n",
    "    # TODO: Implement Function\n",
    "    \n",
    "    return tf.placeholder(tf.float32, name = \"keep_prob\" )\n",
    "\n",
    "\n",
    "\"\"\"\n",
    "DON'T MODIFY ANYTHING IN THIS CELL THAT IS BELOW THIS LINE\n",
    "\"\"\"\n",
    "tf.reset_default_graph()\n",
    "tests.test_nn_image_inputs(neural_net_image_input)\n",
    "tests.test_nn_label_inputs(neural_net_label_input)\n",
    "tests.test_nn_keep_prob_inputs(neural_net_keep_prob_input)"
   ]
  },
  {
   "cell_type": "markdown",
   "metadata": {},
   "source": [
    "### Convolution and Max Pooling Layer\n",
    "Convolution layers have a lot of success with images. For this code cell, you should implement the function `conv2d_maxpool` to apply convolution then max pooling:\n",
    "* Create the weight and bias using `conv_ksize`, `conv_num_outputs` and the shape of `x_tensor`.\n",
    "* Apply a convolution to `x_tensor` using weight and `conv_strides`.\n",
    " * We recommend you use same padding, but you're welcome to use any padding.\n",
    "* Add bias\n",
    "* Add a nonlinear activation to the convolution.\n",
    "* Apply Max Pooling using `pool_ksize` and `pool_strides`.\n",
    " * We recommend you use same padding, but you're welcome to use any padding.\n",
    "\n",
    "**Note:** You **can't** use [TensorFlow Layers](https://www.tensorflow.org/api_docs/python/tf/layers) or [TensorFlow Layers (contrib)](https://www.tensorflow.org/api_guides/python/contrib.layers) for **this** layer, but you can still use TensorFlow's [Neural Network](https://www.tensorflow.org/api_docs/python/tf/nn) package. You may still use the shortcut option for all the **other** layers."
   ]
  },
  {
   "cell_type": "code",
   "execution_count": 12,
   "metadata": {},
   "outputs": [
    {
     "name": "stdout",
     "output_type": "stream",
     "text": [
      "Tests Passed\n"
     ]
    }
   ],
   "source": [
    "def conv2d_maxpool(x_tensor, conv_num_outputs, conv_ksize, conv_strides, pool_ksize, pool_strides):\n",
    "    \"\"\"\n",
    "    Apply convolution then max pooling to x_tensor\n",
    "    :param x_tensor: TensorFlow Tensor\n",
    "    :param conv_num_outputs: Number of outputs for the convolutional layer\n",
    "    :param conv_ksize: kernal size 2-D Tuple for the convolutional layer\n",
    "    :param conv_strides: Stride 2-D Tuple for convolution\n",
    "    :param pool_ksize: kernal size 2-D Tuple for pool\n",
    "    :param pool_strides: Stride 2-D Tuple for pool\n",
    "    : return: A tensor that represents convolution and max pooling of x_tensor\n",
    "    \"\"\"\n",
    "    # TODO: Implement Function\n",
    "    filter_weights = tf.Variable(tf.truncated_normal((conv_ksize[0],conv_ksize[1],x_tensor.shape.as_list()[3],\\\n",
    "                                                      conv_num_outputs),mean= 0.0, stddev=0.05, dtype = tf.float32))\n",
    "    #print(\"filter_weights_shape\",filter_weights)\n",
    "    filter_bias = tf.Variable(tf.zeros([conv_num_outputs]))\n",
    "    #print(\"filter_bias_shape\",filter_bias)\n",
    "    output = tf.nn.conv2d(x_tensor, filter_weights, strides=[1, conv_strides[0], conv_strides[1], 1], padding='SAME')\n",
    "    #print(output)\n",
    "    #print('ksize: {}'.format([pool_ksize[0], pool_ksize[1], output.shape.as_list()[3], conv_num_outputs]))\n",
    "    \n",
    "    output = tf.nn.bias_add(output, filter_bias)\n",
    "    output = tf.nn.relu(output)\n",
    "    \n",
    "    #print(output)\n",
    "    output = tf.nn.max_pool(output, ksize=[1,pool_ksize[0], pool_ksize[1],1],\\\n",
    "                            strides=[1, pool_strides[0], pool_strides[1], 1], padding='SAME')\n",
    "    #print(output)\n",
    "    return output  \n",
    "\n",
    "    \n",
    "\n",
    "\"\"\"\n",
    "DON'T MODIFY ANYTHING IN THIS CELL THAT IS BELOW THIS LINE\n",
    "\"\"\"\n",
    "tests.test_con_pool(conv2d_maxpool)"
   ]
  },
  {
   "cell_type": "markdown",
   "metadata": {},
   "source": [
    "### Flatten Layer\n",
    "Implement the `flatten` function to change the dimension of `x_tensor` from a 4-D tensor to a 2-D tensor.  The output should be the shape (*Batch Size*, *Flattened Image Size*). Shortcut option: you can use classes from the [TensorFlow Layers](https://www.tensorflow.org/api_docs/python/tf/layers) or [TensorFlow Layers (contrib)](https://www.tensorflow.org/api_guides/python/contrib.layers) packages for this layer. For more of a challenge, only use other TensorFlow packages."
   ]
  },
  {
   "cell_type": "code",
   "execution_count": 13,
   "metadata": {},
   "outputs": [
    {
     "name": "stdout",
     "output_type": "stream",
     "text": [
      "Tests Passed\n"
     ]
    }
   ],
   "source": [
    "def flatten(x_tensor):\n",
    "    \"\"\"\n",
    "    Flatten x_tensor to (Batch Size, Flattened Image Size)\n",
    "    : x_tensor: A tensor of size (Batch Size, ...), where ... are the image dimensions.\n",
    "    : return: A tensor of size (Batch Size, Flattened Image Size).\n",
    "    \"\"\"\n",
    "    # TODO: Implement Function\n",
    "    #shape = x_tensor.get_shape().as_list()\n",
    "    #dim = np.prod(shape[1:])            \n",
    "    #x2 = tf.reshape(x_tensor, [-1, dim])     \n",
    "    #return x2\n",
    "    return tf.contrib.layers.flatten(x_tensor)\n",
    "\n",
    "\n",
    "\"\"\"\n",
    "DON'T MODIFY ANYTHING IN THIS CELL THAT IS BELOW THIS LINE\n",
    "\"\"\"\n",
    "tests.test_flatten(flatten)"
   ]
  },
  {
   "cell_type": "markdown",
   "metadata": {},
   "source": [
    "### Fully-Connected Layer\n",
    "Implement the `fully_conn` function to apply a fully connected layer to `x_tensor` with the shape (*Batch Size*, *num_outputs*). Shortcut option: you can use classes from the [TensorFlow Layers](https://www.tensorflow.org/api_docs/python/tf/layers) or [TensorFlow Layers (contrib)](https://www.tensorflow.org/api_guides/python/contrib.layers) packages for this layer. For more of a challenge, only use other TensorFlow packages."
   ]
  },
  {
   "cell_type": "code",
   "execution_count": 14,
   "metadata": {},
   "outputs": [
    {
     "name": "stdout",
     "output_type": "stream",
     "text": [
      "Tests Passed\n"
     ]
    }
   ],
   "source": [
    "def fully_conn(x_tensor, num_outputs):\n",
    "    \"\"\"\n",
    "    Apply a fully connected layer to x_tensor using weight and bias\n",
    "    : x_tensor: A 2-D tensor where the first dimension is batch size.\n",
    "    : num_outputs: The number of output that the new tensor should be.\n",
    "    : return: A 2-D tensor where the second dimension is num_outputs.\n",
    "    \"\"\"\n",
    "    # TODO: Implement Function\n",
    "    datasize = x_tensor.get_shape().as_list()[1]\n",
    "    weight = tf.Variable(tf.truncated_normal([datasize, num_outputs],mean=0.0,stddev=0.05),dtype= tf.float32)\n",
    "    bias = tf.Variable(tf.zeros(num_outputs))\n",
    "    out = tf.add(tf.matmul(x_tensor, weight), bias)\n",
    "    return tf.nn.relu(out)\n",
    "    \n",
    "    \n",
    "\n",
    "\n",
    "\n",
    "\"\"\"\n",
    "DON'T MODIFY ANYTHING IN THIS CELL THAT IS BELOW THIS LINE\n",
    "\"\"\"\n",
    "tests.test_fully_conn(fully_conn)"
   ]
  },
  {
   "cell_type": "markdown",
   "metadata": {},
   "source": [
    "### Output Layer\n",
    "Implement the `output` function to apply a fully connected layer to `x_tensor` with the shape (*Batch Size*, *num_outputs*). Shortcut option: you can use classes from the [TensorFlow Layers](https://www.tensorflow.org/api_docs/python/tf/layers) or [TensorFlow Layers (contrib)](https://www.tensorflow.org/api_guides/python/contrib.layers) packages for this layer. For more of a challenge, only use other TensorFlow packages.\n",
    "\n",
    "**Note:** Activation, softmax, or cross entropy should **not** be applied to this."
   ]
  },
  {
   "cell_type": "code",
   "execution_count": 15,
   "metadata": {},
   "outputs": [
    {
     "name": "stdout",
     "output_type": "stream",
     "text": [
      "Tests Passed\n"
     ]
    }
   ],
   "source": [
    "def output(x_tensor, num_outputs):\n",
    "    \"\"\"\n",
    "    Apply a output layer to x_tensor using weight and bias\n",
    "    : x_tensor: A 2-D tensor where the first dimension is batch size.\n",
    "    : num_outputs: The number of output that the new tensor should be.\n",
    "    : return: A 2-D tensor where the second dimension is num_outputs.\n",
    "    \"\"\"\n",
    "    # TODO: Implement Function\n",
    "    \n",
    "    datasize = x_tensor.get_shape().as_list()[1]\n",
    "    weight = tf.Variable(tf.truncated_normal([datasize, num_outputs],mean=0.0,stddev=0.05), dtype = tf.float32)\n",
    "    bias = tf.Variable(tf.zeros(num_outputs))\n",
    "    out = tf.add(tf.matmul(x_tensor, weight), bias)\n",
    "    return out\n",
    "    \n",
    "\n",
    "\n",
    "\"\"\"\n",
    "DON'T MODIFY ANYTHING IN THIS CELL THAT IS BELOW THIS LINE\n",
    "\"\"\"\n",
    "tests.test_output(output)"
   ]
  },
  {
   "cell_type": "markdown",
   "metadata": {},
   "source": [
    "### Create Convolutional Model\n",
    "Implement the function `conv_net` to create a convolutional neural network model. The function takes in a batch of images, `x`, and outputs logits.  Use the layers you created above to create this model:\n",
    "\n",
    "* Apply 1, 2, or 3 Convolution and Max Pool layers\n",
    "* Apply a Flatten Layer\n",
    "* Apply 1, 2, or 3 Fully Connected Layers\n",
    "* Apply an Output Layer\n",
    "* Return the output\n",
    "* Apply [TensorFlow's Dropout](https://www.tensorflow.org/api_docs/python/tf/nn/dropout) to one or more layers in the model using `keep_prob`. "
   ]
  },
  {
   "cell_type": "code",
   "execution_count": 16,
   "metadata": {},
   "outputs": [
    {
     "name": "stdout",
     "output_type": "stream",
     "text": [
      "(?, 32768)\n",
      "(?, 32768)\n",
      "Neural Network Built!\n"
     ]
    }
   ],
   "source": [
    "\n",
    "def conv_net(x, keep_prob):\n",
    "    \"\"\"\n",
    "    Create a convolutional neural network model\n",
    "    : x: Placeholder tensor that holds image data.\n",
    "    : keep_prob: Placeholder tensor that hold dropout keep probability.\n",
    "    : return: Tensor that represents logits\n",
    "    \"\"\"\n",
    "    # TODO: Apply 1, 2, or 3 Convolution and Max Pool layers\n",
    "    #    Play around with different number of outputs, kernel size and stride\n",
    "    # Function Definition from Above:\n",
    "    #    conv2d_maxpool(x_tensor, conv_num_outputs, conv_ksize, conv_strides, pool_ksize, pool_strides)\n",
    "    #list.append(x.get_shape().as_list()[1:])\n",
    "    net = conv2d_maxpool(x, 32, (4,4), (2,2), (2,2), (1,1))\n",
    "    #print(net.get_shape())\n",
    "    net = conv2d_maxpool(net,64, (4,4), (1,1), (2,2), (1,1))\n",
    "    net = conv2d_maxpool(net, 128, (4,4), (1,1), (2,2), (1,1))\n",
    "    # TODO: Apply a Flatten Layer\n",
    "    # Function Definition from Above:\n",
    "    #   flatten(x_tensor)\n",
    "    net = flatten(net)\n",
    "    net = tf.nn.dropout(net, keep_prob=keep_prob)\n",
    "    print(net.get_shape())\n",
    "    \n",
    "    # TODO: Apply 1, 2, or 3 Fully Connected Layers\n",
    "    #    Play around with different number of outputs\n",
    "    # Function Definition from Above:\n",
    "    #   fully_conn(x_tensor, num_outputs)\n",
    "    net = fully_conn(net, 10)\n",
    "    #net = tf.nn.dropout(net, keep_prob=keep_prob)\n",
    "    #net = fully_conn(net, 128)\n",
    "    # TODO: Apply an Output Layer\n",
    "    #    Set this to the number of classes\n",
    "    # Function Definition from Above:\n",
    "    #   output(x_tensor, num_outputs)\n",
    "    net = output(net, 10)\n",
    "    net = tf.nn.relu(net)\n",
    "    # TODO: return output\n",
    "    return net\n",
    "\n",
    "\n",
    "\"\"\"\n",
    "DON'T MODIFY ANYTHING IN THIS CELL THAT IS BELOW THIS LINE\n",
    "\"\"\"\n",
    "\n",
    "##############################\n",
    "## Build the Neural Network ##\n",
    "##############################\n",
    "\n",
    "# Remove previous weights, bias, inputs, etc..\n",
    "tf.reset_default_graph()\n",
    "\n",
    "# Inputs\n",
    "x = neural_net_image_input((32, 32, 3))\n",
    "y = neural_net_label_input(10)\n",
    "keep_prob = neural_net_keep_prob_input()\n",
    "\n",
    "# Model\n",
    "logits = conv_net(x, keep_prob)\n",
    "\n",
    "# Name logits Tensor, so that is can be loaded from disk after training\n",
    "logits = tf.identity(logits, name='logits')\n",
    "\n",
    "# Loss and Optimizer\n",
    "cost = tf.reduce_mean(tf.nn.softmax_cross_entropy_with_logits(logits=logits, labels=y))\n",
    "optimizer = tf.train.AdamOptimizer().minimize(cost)\n",
    "\n",
    "# Accuracy\n",
    "correct_pred = tf.equal(tf.argmax(logits, 1), tf.argmax(y, 1))\n",
    "accuracy = tf.reduce_mean(tf.cast(correct_pred, tf.float32), name='accuracy')\n",
    "\n",
    "tests.test_conv_net(conv_net)"
   ]
  },
  {
   "cell_type": "markdown",
   "metadata": {},
   "source": [
    "## Train the Neural Network\n",
    "### Single Optimization\n",
    "Implement the function `train_neural_network` to do a single optimization.  The optimization should use `optimizer` to optimize in `session` with a `feed_dict` of the following:\n",
    "* `x` for image input\n",
    "* `y` for labels\n",
    "* `keep_prob` for keep probability for dropout\n",
    "\n",
    "This function will be called for each batch, so `tf.global_variables_initializer()` has already been called.\n",
    "\n",
    "Note: Nothing needs to be returned. This function is only optimizing the neural network."
   ]
  },
  {
   "cell_type": "code",
   "execution_count": 17,
   "metadata": {},
   "outputs": [
    {
     "name": "stdout",
     "output_type": "stream",
     "text": [
      "Tests Passed\n"
     ]
    }
   ],
   "source": [
    "def train_neural_network(session, optimizer, keep_probability, feature_batch, label_batch):\n",
    "    \"\"\"\n",
    "    Optimize the session on a batch of images and labels\n",
    "    : session: Current TensorFlow session\n",
    "    : optimizer: TensorFlow optimizer function\n",
    "    : keep_probability: keep probability\n",
    "    : feature_batch: Batch of Numpy image data\n",
    "    : label_batch: Batch of Numpy label data\n",
    "    \"\"\"\n",
    "    # TODO: Implement Function\n",
    "    session.run(optimizer,feed_dict={x:feature_batch,y:label_batch,keep_prob:keep_probability})\n",
    "\n",
    "\n",
    "\n",
    "\"\"\"\n",
    "DON'T MODIFY ANYTHING IN THIS CELL THAT IS BELOW THIS LINE\n",
    "\"\"\"\n",
    "tests.test_train_nn(train_neural_network)"
   ]
  },
  {
   "cell_type": "markdown",
   "metadata": {},
   "source": [
    "### Show Stats\n",
    "Implement the function `print_stats` to print loss and validation accuracy.  Use the global variables `valid_features` and `valid_labels` to calculate validation accuracy.  Use a keep probability of `1.0` to calculate the loss and validation accuracy."
   ]
  },
  {
   "cell_type": "code",
   "execution_count": 18,
   "metadata": {},
   "outputs": [],
   "source": [
    "def print_stats(session, feature_batch, label_batch, cost, accuracy):\n",
    "    \"\"\"\n",
    "    Print information about loss and validation accuracy\n",
    "    : session: Current TensorFlow session\n",
    "    : feature_batch: Batch of Numpy image data\n",
    "    : label_batch: Batch of Numpy label data\n",
    "    : cost: TensorFlow cost function\n",
    "    : accuracy: TensorFlow accuracy function\n",
    "    \"\"\"\n",
    "    # TODO: Implement Function\n",
    "    cost = session.run(cost,feed_dict={x:feature_batch,y:label_batch,keep_prob:1})\n",
    "    accuracy = session.run(accuracy,feed_dict={x:valid_features,y:valid_labels,keep_prob:1})\n",
    "    print(\"Cost:\",cost)\n",
    "    print(\"Validation_Accuracy:\", accuracy)"
   ]
  },
  {
   "cell_type": "markdown",
   "metadata": {},
   "source": [
    "### Hyperparameters\n",
    "Tune the following parameters:\n",
    "* Set `epochs` to the number of iterations until the network stops learning or start overfitting\n",
    "* Set `batch_size` to the highest number that your machine has memory for.  Most people set them to common sizes of memory:\n",
    " * 64\n",
    " * 128\n",
    " * 256\n",
    " * ...\n",
    "* Set `keep_probability` to the probability of keeping a node using dropout"
   ]
  },
  {
   "cell_type": "code",
   "execution_count": 19,
   "metadata": {},
   "outputs": [],
   "source": [
    "# TODO: Tune Parameters\n",
    "epochs = 30\n",
    "batch_size = 64\n",
    "keep_probability = 0.5"
   ]
  },
  {
   "cell_type": "markdown",
   "metadata": {},
   "source": [
    "### Train on a Single CIFAR-10 Batch\n",
    "Instead of training the neural network on all the CIFAR-10 batches of data, let's use a single batch. This should save time while you iterate on the model to get a better accuracy.  Once the final validation accuracy is 50% or greater, run the model on all the data in the next section."
   ]
  },
  {
   "cell_type": "code",
   "execution_count": 20,
   "metadata": {
    "scrolled": true
   },
   "outputs": [
    {
     "name": "stdout",
     "output_type": "stream",
     "text": [
      "Checking the Training on a Single Batch...\n",
      "Epoch  1, CIFAR-10 Batch 1:  Cost: 2.224589\n",
      "Validation_Accuracy: 0.2342\n",
      "Epoch  2, CIFAR-10 Batch 1:  Cost: 2.1341946\n",
      "Validation_Accuracy: 0.2904\n",
      "Epoch  3, CIFAR-10 Batch 1:  Cost: 2.0604925\n",
      "Validation_Accuracy: 0.3088\n",
      "Epoch  4, CIFAR-10 Batch 1:  Cost: 1.9100702\n",
      "Validation_Accuracy: 0.3316\n",
      "Epoch  5, CIFAR-10 Batch 1:  Cost: 1.824609\n",
      "Validation_Accuracy: 0.3348\n",
      "Epoch  6, CIFAR-10 Batch 1:  Cost: 1.8078858\n",
      "Validation_Accuracy: 0.3554\n",
      "Epoch  7, CIFAR-10 Batch 1:  Cost: 1.7991798\n",
      "Validation_Accuracy: 0.3586\n",
      "Epoch  8, CIFAR-10 Batch 1:  Cost: 1.7206013\n",
      "Validation_Accuracy: 0.3744\n",
      "Epoch  9, CIFAR-10 Batch 1:  Cost: 1.6837864\n",
      "Validation_Accuracy: 0.3912\n",
      "Epoch 10, CIFAR-10 Batch 1:  Cost: 1.6841755\n",
      "Validation_Accuracy: 0.3884\n",
      "Epoch 11, CIFAR-10 Batch 1:  Cost: 1.6569971\n",
      "Validation_Accuracy: 0.3918\n",
      "Epoch 12, CIFAR-10 Batch 1:  Cost: 1.6304095\n",
      "Validation_Accuracy: 0.3992\n",
      "Epoch 13, CIFAR-10 Batch 1:  Cost: 1.6314955\n",
      "Validation_Accuracy: 0.392\n",
      "Epoch 14, CIFAR-10 Batch 1:  Cost: 1.5782226\n",
      "Validation_Accuracy: 0.4046\n",
      "Epoch 15, CIFAR-10 Batch 1:  Cost: 1.6014669\n",
      "Validation_Accuracy: 0.4034\n",
      "Epoch 16, CIFAR-10 Batch 1:  Cost: 1.5385501\n",
      "Validation_Accuracy: 0.409\n",
      "Epoch 17, CIFAR-10 Batch 1:  Cost: 1.5314524\n",
      "Validation_Accuracy: 0.4074\n",
      "Epoch 18, CIFAR-10 Batch 1:  Cost: 1.5565643\n",
      "Validation_Accuracy: 0.4036\n",
      "Epoch 19, CIFAR-10 Batch 1:  Cost: 1.5141342\n",
      "Validation_Accuracy: 0.4034\n",
      "Epoch 20, CIFAR-10 Batch 1:  Cost: 1.5153358\n",
      "Validation_Accuracy: 0.417\n",
      "Epoch 21, CIFAR-10 Batch 1:  Cost: 1.4745934\n",
      "Validation_Accuracy: 0.4176\n",
      "Epoch 22, CIFAR-10 Batch 1:  Cost: 1.4835409\n",
      "Validation_Accuracy: 0.4118\n",
      "Epoch 23, CIFAR-10 Batch 1:  Cost: 1.4599829\n",
      "Validation_Accuracy: 0.4188\n",
      "Epoch 24, CIFAR-10 Batch 1:  Cost: 1.4578993\n",
      "Validation_Accuracy: 0.4194\n",
      "Epoch 25, CIFAR-10 Batch 1:  Cost: 1.4514862\n",
      "Validation_Accuracy: 0.4078\n",
      "Epoch 26, CIFAR-10 Batch 1:  Cost: 1.4554666\n",
      "Validation_Accuracy: 0.4102\n",
      "Epoch 27, CIFAR-10 Batch 1:  Cost: 1.4626375\n",
      "Validation_Accuracy: 0.4026\n",
      "Epoch 28, CIFAR-10 Batch 1:  Cost: 1.4692472\n",
      "Validation_Accuracy: 0.4064\n",
      "Epoch 29, CIFAR-10 Batch 1:  Cost: 1.4706501\n",
      "Validation_Accuracy: 0.4008\n",
      "Epoch 30, CIFAR-10 Batch 1:  Cost: 1.4458444\n",
      "Validation_Accuracy: 0.3996\n"
     ]
    }
   ],
   "source": [
    "\"\"\"\n",
    "DON'T MODIFY ANYTHING IN THIS CELL\n",
    "\"\"\"\n",
    "\n",
    "print('Checking the Training on a Single Batch...')\n",
    "with tf.Session() as sess:\n",
    "    # Initializing the variables\n",
    "    sess.run(tf.global_variables_initializer())\n",
    "    \n",
    "    # Training cycle\n",
    "    for epoch in range(epochs):\n",
    "        batch_i = 1\n",
    "        for batch_features, batch_labels in helper.load_preprocess_training_batch(batch_i, batch_size):\n",
    "            train_neural_network(sess, optimizer, keep_probability, batch_features, batch_labels)\n",
    "        print('Epoch {:>2}, CIFAR-10 Batch {}:  '.format(epoch + 1, batch_i), end='')\n",
    "        print_stats(sess, batch_features, batch_labels, cost, accuracy)"
   ]
  },
  {
   "cell_type": "markdown",
   "metadata": {},
   "source": [
    "### Fully Train the Model\n",
    "Now that you got a good accuracy with a single CIFAR-10 batch, try it with all five batches."
   ]
  },
  {
   "cell_type": "code",
   "execution_count": 21,
   "metadata": {
    "scrolled": true
   },
   "outputs": [
    {
     "name": "stdout",
     "output_type": "stream",
     "text": [
      "Training...\n",
      "Epoch  1, CIFAR-10 Batch 1:  Cost: 2.2739997\n",
      "Validation_Accuracy: 0.1536\n",
      "Epoch  1, CIFAR-10 Batch 2:  Cost: 2.1148899\n",
      "Validation_Accuracy: 0.208\n",
      "Epoch  1, CIFAR-10 Batch 3:  Cost: 1.919317\n",
      "Validation_Accuracy: 0.2184\n",
      "Epoch  1, CIFAR-10 Batch 4:  Cost: 1.9269435\n",
      "Validation_Accuracy: 0.2774\n",
      "Epoch  1, CIFAR-10 Batch 5:  Cost: 1.9932934\n",
      "Validation_Accuracy: 0.288\n",
      "Epoch  2, CIFAR-10 Batch 1:  Cost: 1.9964406\n",
      "Validation_Accuracy: 0.2938\n",
      "Epoch  2, CIFAR-10 Batch 2:  Cost: 1.9299657\n",
      "Validation_Accuracy: 0.3124\n",
      "Epoch  2, CIFAR-10 Batch 3:  Cost: 1.6954567\n",
      "Validation_Accuracy: 0.333\n",
      "Epoch  2, CIFAR-10 Batch 4:  Cost: 1.7461584\n",
      "Validation_Accuracy: 0.3496\n",
      "Epoch  2, CIFAR-10 Batch 5:  Cost: 1.8220253\n",
      "Validation_Accuracy: 0.3628\n",
      "Epoch  3, CIFAR-10 Batch 1:  Cost: 1.8611504\n",
      "Validation_Accuracy: 0.3694\n",
      "Epoch  3, CIFAR-10 Batch 2:  Cost: 1.6963832\n",
      "Validation_Accuracy: 0.3556\n",
      "Epoch  3, CIFAR-10 Batch 3:  Cost: 1.5030543\n",
      "Validation_Accuracy: 0.3792\n",
      "Epoch  3, CIFAR-10 Batch 4:  Cost: 1.6308981\n",
      "Validation_Accuracy: 0.3876\n",
      "Epoch  3, CIFAR-10 Batch 5:  Cost: 1.7083883\n",
      "Validation_Accuracy: 0.3968\n",
      "Epoch  4, CIFAR-10 Batch 1:  Cost: 1.7946987\n",
      "Validation_Accuracy: 0.3878\n",
      "Epoch  4, CIFAR-10 Batch 2:  Cost: 1.609486\n",
      "Validation_Accuracy: 0.401\n",
      "Epoch  4, CIFAR-10 Batch 3:  Cost: 1.3640617\n",
      "Validation_Accuracy: 0.421\n",
      "Epoch  4, CIFAR-10 Batch 4:  Cost: 1.5451462\n",
      "Validation_Accuracy: 0.415\n",
      "Epoch  4, CIFAR-10 Batch 5:  Cost: 1.5891464\n",
      "Validation_Accuracy: 0.4306\n",
      "Epoch  5, CIFAR-10 Batch 1:  Cost: 1.7159319\n",
      "Validation_Accuracy: 0.4024\n",
      "Epoch  5, CIFAR-10 Batch 2:  Cost: 1.4486549\n",
      "Validation_Accuracy: 0.4294\n",
      "Epoch  5, CIFAR-10 Batch 3:  Cost: 1.1932129\n",
      "Validation_Accuracy: 0.4296\n",
      "Epoch  5, CIFAR-10 Batch 4:  Cost: 1.4569385\n",
      "Validation_Accuracy: 0.434\n",
      "Epoch  5, CIFAR-10 Batch 5:  Cost: 1.356129\n",
      "Validation_Accuracy: 0.453\n",
      "Epoch  6, CIFAR-10 Batch 1:  Cost: 1.5944452\n",
      "Validation_Accuracy: 0.4286\n",
      "Epoch  6, CIFAR-10 Batch 2:  Cost: 1.3595883\n",
      "Validation_Accuracy: 0.4602\n",
      "Epoch  6, CIFAR-10 Batch 3:  Cost: 1.1051509\n",
      "Validation_Accuracy: 0.4534\n",
      "Epoch  6, CIFAR-10 Batch 4:  Cost: 1.333317\n",
      "Validation_Accuracy: 0.4558\n",
      "Epoch  6, CIFAR-10 Batch 5:  Cost: 1.1669161\n",
      "Validation_Accuracy: 0.4806\n",
      "Epoch  7, CIFAR-10 Batch 1:  Cost: 1.533148\n",
      "Validation_Accuracy: 0.4576\n",
      "Epoch  7, CIFAR-10 Batch 2:  Cost: 1.3159144\n",
      "Validation_Accuracy: 0.4764\n",
      "Epoch  7, CIFAR-10 Batch 3:  Cost: 1.0765445\n",
      "Validation_Accuracy: 0.4736\n",
      "Epoch  7, CIFAR-10 Batch 4:  Cost: 1.2207775\n",
      "Validation_Accuracy: 0.4766\n",
      "Epoch  7, CIFAR-10 Batch 5:  Cost: 1.0888822\n",
      "Validation_Accuracy: 0.4956\n",
      "Epoch  8, CIFAR-10 Batch 1:  Cost: 1.4505532\n",
      "Validation_Accuracy: 0.4754\n",
      "Epoch  8, CIFAR-10 Batch 2:  Cost: 1.2148061\n",
      "Validation_Accuracy: 0.4874\n",
      "Epoch  8, CIFAR-10 Batch 3:  Cost: 0.913686\n",
      "Validation_Accuracy: 0.4932\n",
      "Epoch  8, CIFAR-10 Batch 4:  Cost: 1.1275427\n",
      "Validation_Accuracy: 0.4978\n",
      "Epoch  8, CIFAR-10 Batch 5:  Cost: 0.9966463\n",
      "Validation_Accuracy: 0.5164\n",
      "Epoch  9, CIFAR-10 Batch 1:  Cost: 1.4243363\n",
      "Validation_Accuracy: 0.4986\n",
      "Epoch  9, CIFAR-10 Batch 2:  Cost: 1.1621752\n",
      "Validation_Accuracy: 0.5034\n",
      "Epoch  9, CIFAR-10 Batch 3:  Cost: 0.897406\n",
      "Validation_Accuracy: 0.5024\n",
      "Epoch  9, CIFAR-10 Batch 4:  Cost: 1.0221694\n",
      "Validation_Accuracy: 0.5058\n",
      "Epoch  9, CIFAR-10 Batch 5:  Cost: 0.95760024\n",
      "Validation_Accuracy: 0.5206\n",
      "Epoch 10, CIFAR-10 Batch 1:  Cost: 1.3506873\n",
      "Validation_Accuracy: 0.5024\n",
      "Epoch 10, CIFAR-10 Batch 2:  Cost: 1.1114242\n",
      "Validation_Accuracy: 0.508\n",
      "Epoch 10, CIFAR-10 Batch 3:  Cost: 0.79281145\n",
      "Validation_Accuracy: 0.516\n",
      "Epoch 10, CIFAR-10 Batch 4:  Cost: 1.0229306\n",
      "Validation_Accuracy: 0.5126\n",
      "Epoch 10, CIFAR-10 Batch 5:  Cost: 0.87787664\n",
      "Validation_Accuracy: 0.5338\n",
      "Epoch 11, CIFAR-10 Batch 1:  Cost: 1.338053\n",
      "Validation_Accuracy: 0.5158\n",
      "Epoch 11, CIFAR-10 Batch 2:  Cost: 1.0362611\n",
      "Validation_Accuracy: 0.5146\n",
      "Epoch 11, CIFAR-10 Batch 3:  Cost: 0.76178014\n",
      "Validation_Accuracy: 0.5294\n",
      "Epoch 11, CIFAR-10 Batch 4:  Cost: 0.933527\n",
      "Validation_Accuracy: 0.5222\n",
      "Epoch 11, CIFAR-10 Batch 5:  Cost: 0.8408869\n",
      "Validation_Accuracy: 0.5312\n",
      "Epoch 12, CIFAR-10 Batch 1:  Cost: 1.2923007\n",
      "Validation_Accuracy: 0.5162\n",
      "Epoch 12, CIFAR-10 Batch 2:  Cost: 1.0182836\n",
      "Validation_Accuracy: 0.524\n",
      "Epoch 12, CIFAR-10 Batch 3:  Cost: 0.80119276\n",
      "Validation_Accuracy: 0.5142\n",
      "Epoch 12, CIFAR-10 Batch 4:  Cost: 0.9327901\n",
      "Validation_Accuracy: 0.5186\n",
      "Epoch 12, CIFAR-10 Batch 5:  Cost: 0.8220627\n",
      "Validation_Accuracy: 0.5368\n",
      "Epoch 13, CIFAR-10 Batch 1:  Cost: 1.1776302\n",
      "Validation_Accuracy: 0.5256\n",
      "Epoch 13, CIFAR-10 Batch 2:  Cost: 0.96207523\n",
      "Validation_Accuracy: 0.5164\n",
      "Epoch 13, CIFAR-10 Batch 3:  Cost: 0.6910553\n",
      "Validation_Accuracy: 0.527\n",
      "Epoch 13, CIFAR-10 Batch 4:  Cost: 0.8427022\n",
      "Validation_Accuracy: 0.5302\n",
      "Epoch 13, CIFAR-10 Batch 5:  Cost: 0.75829077\n",
      "Validation_Accuracy: 0.5344\n",
      "Epoch 14, CIFAR-10 Batch 1:  Cost: 1.1127962\n",
      "Validation_Accuracy: 0.5298\n",
      "Epoch 14, CIFAR-10 Batch 2:  Cost: 1.0260427\n",
      "Validation_Accuracy: 0.5228\n",
      "Epoch 14, CIFAR-10 Batch 3:  Cost: 0.68336356\n",
      "Validation_Accuracy: 0.5254\n",
      "Epoch 14, CIFAR-10 Batch 4:  Cost: 0.80615413\n",
      "Validation_Accuracy: 0.5234\n",
      "Epoch 14, CIFAR-10 Batch 5:  Cost: 0.7137297\n",
      "Validation_Accuracy: 0.5344\n",
      "Epoch 15, CIFAR-10 Batch 1:  Cost: 1.0971226\n",
      "Validation_Accuracy: 0.5262\n",
      "Epoch 15, CIFAR-10 Batch 2:  Cost: 0.9733278\n",
      "Validation_Accuracy: 0.5228\n",
      "Epoch 15, CIFAR-10 Batch 3:  Cost: 0.63380545\n",
      "Validation_Accuracy: 0.5306\n",
      "Epoch 15, CIFAR-10 Batch 4:  Cost: 0.7552792\n",
      "Validation_Accuracy: 0.531\n",
      "Epoch 15, CIFAR-10 Batch 5:  Cost: 0.7131807\n",
      "Validation_Accuracy: 0.5352\n",
      "Epoch 16, CIFAR-10 Batch 1:  Cost: 1.1114733\n",
      "Validation_Accuracy: 0.5282\n",
      "Epoch 16, CIFAR-10 Batch 2:  Cost: 0.97533673\n",
      "Validation_Accuracy: 0.5246\n",
      "Epoch 16, CIFAR-10 Batch 3:  Cost: 0.68916017\n",
      "Validation_Accuracy: 0.535\n",
      "Epoch 16, CIFAR-10 Batch 4:  Cost: 0.7119654\n",
      "Validation_Accuracy: 0.5276\n",
      "Epoch 16, CIFAR-10 Batch 5:  Cost: 0.6885616\n",
      "Validation_Accuracy: 0.536\n",
      "Epoch 17, CIFAR-10 Batch 1:  Cost: 1.0318681\n",
      "Validation_Accuracy: 0.5192\n",
      "Epoch 17, CIFAR-10 Batch 2:  Cost: 0.91368854\n",
      "Validation_Accuracy: 0.5192\n",
      "Epoch 17, CIFAR-10 Batch 3:  Cost: 0.6178719\n",
      "Validation_Accuracy: 0.5378\n",
      "Epoch 17, CIFAR-10 Batch 4:  Cost: 0.7124584\n",
      "Validation_Accuracy: 0.534\n",
      "Epoch 17, CIFAR-10 Batch 5:  Cost: 0.65760815\n",
      "Validation_Accuracy: 0.534\n",
      "Epoch 18, CIFAR-10 Batch 1:  Cost: 1.0486912\n",
      "Validation_Accuracy: 0.5222\n",
      "Epoch 18, CIFAR-10 Batch 2:  Cost: 0.8373122\n",
      "Validation_Accuracy: 0.5268\n",
      "Epoch 18, CIFAR-10 Batch 3:  Cost: 0.57395303\n",
      "Validation_Accuracy: 0.5336\n",
      "Epoch 18, CIFAR-10 Batch 4:  Cost: 0.6894266\n",
      "Validation_Accuracy: 0.5346\n",
      "Epoch 18, CIFAR-10 Batch 5:  Cost: 0.61617196\n",
      "Validation_Accuracy: 0.5308\n",
      "Epoch 19, CIFAR-10 Batch 1:  Cost: 1.0136526\n",
      "Validation_Accuracy: 0.5322\n",
      "Epoch 19, CIFAR-10 Batch 2:  Cost: 0.9012214\n",
      "Validation_Accuracy: 0.5296\n",
      "Epoch 19, CIFAR-10 Batch 3:  Cost: 0.6189295\n",
      "Validation_Accuracy: 0.537\n",
      "Epoch 19, CIFAR-10 Batch 4:  Cost: 0.7543557\n",
      "Validation_Accuracy: 0.5316\n",
      "Epoch 19, CIFAR-10 Batch 5:  Cost: 0.678291\n",
      "Validation_Accuracy: 0.525\n",
      "Epoch 20, CIFAR-10 Batch 1:  Cost: 0.9816988\n",
      "Validation_Accuracy: 0.5196\n",
      "Epoch 20, CIFAR-10 Batch 2:  Cost: 0.8555395\n",
      "Validation_Accuracy: 0.5362\n",
      "Epoch 20, CIFAR-10 Batch 3:  Cost: 0.54173577\n",
      "Validation_Accuracy: 0.5366\n",
      "Epoch 20, CIFAR-10 Batch 4:  Cost: 0.65167826\n",
      "Validation_Accuracy: 0.5324\n",
      "Epoch 20, CIFAR-10 Batch 5:  Cost: 0.6184703\n",
      "Validation_Accuracy: 0.537\n",
      "Epoch 21, CIFAR-10 Batch 1:  Cost: 0.99402475\n",
      "Validation_Accuracy: 0.528\n",
      "Epoch 21, CIFAR-10 Batch 2:  Cost: 0.83740884\n",
      "Validation_Accuracy: 0.536\n",
      "Epoch 21, CIFAR-10 Batch 3:  Cost: 0.54024565\n",
      "Validation_Accuracy: 0.5294\n",
      "Epoch 21, CIFAR-10 Batch 4:  Cost: 0.6914107\n",
      "Validation_Accuracy: 0.5352\n",
      "Epoch 21, CIFAR-10 Batch 5:  Cost: 0.59186375\n",
      "Validation_Accuracy: 0.5346\n",
      "Epoch 22, CIFAR-10 Batch 1:  Cost: 1.0203087\n",
      "Validation_Accuracy: 0.5412\n",
      "Epoch 22, CIFAR-10 Batch 2:  Cost: 0.8288577\n",
      "Validation_Accuracy: 0.54\n",
      "Epoch 22, CIFAR-10 Batch 3:  Cost: 0.5678798\n",
      "Validation_Accuracy: 0.5346\n",
      "Epoch 22, CIFAR-10 Batch 4:  Cost: 0.6233143\n",
      "Validation_Accuracy: 0.5368\n",
      "Epoch 22, CIFAR-10 Batch 5:  Cost: 0.5824584\n",
      "Validation_Accuracy: 0.5378\n",
      "Epoch 23, CIFAR-10 Batch 1:  Cost: 0.95725214\n",
      "Validation_Accuracy: 0.5346\n",
      "Epoch 23, CIFAR-10 Batch 2:  Cost: 0.80119485\n",
      "Validation_Accuracy: 0.5406\n"
     ]
    },
    {
     "name": "stdout",
     "output_type": "stream",
     "text": [
      "Epoch 23, CIFAR-10 Batch 3:  Cost: 0.59870523\n",
      "Validation_Accuracy: 0.5374\n",
      "Epoch 23, CIFAR-10 Batch 4:  Cost: 0.60905993\n",
      "Validation_Accuracy: 0.5468\n",
      "Epoch 23, CIFAR-10 Batch 5:  Cost: 0.66238606\n",
      "Validation_Accuracy: 0.528\n",
      "Epoch 24, CIFAR-10 Batch 1:  Cost: 0.96412814\n",
      "Validation_Accuracy: 0.5334\n",
      "Epoch 24, CIFAR-10 Batch 2:  Cost: 0.7663965\n",
      "Validation_Accuracy: 0.536\n",
      "Epoch 24, CIFAR-10 Batch 3:  Cost: 0.5402322\n",
      "Validation_Accuracy: 0.5438\n",
      "Epoch 24, CIFAR-10 Batch 4:  Cost: 0.57676786\n",
      "Validation_Accuracy: 0.5394\n",
      "Epoch 24, CIFAR-10 Batch 5:  Cost: 0.5728418\n",
      "Validation_Accuracy: 0.537\n",
      "Epoch 25, CIFAR-10 Batch 1:  Cost: 1.0085483\n",
      "Validation_Accuracy: 0.5402\n",
      "Epoch 25, CIFAR-10 Batch 2:  Cost: 0.76869583\n",
      "Validation_Accuracy: 0.546\n",
      "Epoch 25, CIFAR-10 Batch 3:  Cost: 0.58040607\n",
      "Validation_Accuracy: 0.546\n",
      "Epoch 25, CIFAR-10 Batch 4:  Cost: 0.5534813\n",
      "Validation_Accuracy: 0.544\n",
      "Epoch 25, CIFAR-10 Batch 5:  Cost: 0.53335947\n",
      "Validation_Accuracy: 0.5334\n",
      "Epoch 26, CIFAR-10 Batch 1:  Cost: 0.94843674\n",
      "Validation_Accuracy: 0.5316\n",
      "Epoch 26, CIFAR-10 Batch 2:  Cost: 0.7002006\n",
      "Validation_Accuracy: 0.5468\n",
      "Epoch 26, CIFAR-10 Batch 3:  Cost: 0.5447349\n",
      "Validation_Accuracy: 0.5368\n",
      "Epoch 26, CIFAR-10 Batch 4:  Cost: 0.5341975\n",
      "Validation_Accuracy: 0.5402\n",
      "Epoch 26, CIFAR-10 Batch 5:  Cost: 0.55860996\n",
      "Validation_Accuracy: 0.5338\n",
      "Epoch 27, CIFAR-10 Batch 1:  Cost: 0.9824006\n",
      "Validation_Accuracy: 0.5386\n",
      "Epoch 27, CIFAR-10 Batch 2:  Cost: 0.70727986\n",
      "Validation_Accuracy: 0.5506\n",
      "Epoch 27, CIFAR-10 Batch 3:  Cost: 0.5499109\n",
      "Validation_Accuracy: 0.5348\n",
      "Epoch 27, CIFAR-10 Batch 4:  Cost: 0.5428745\n",
      "Validation_Accuracy: 0.5368\n",
      "Epoch 27, CIFAR-10 Batch 5:  Cost: 0.47433335\n",
      "Validation_Accuracy: 0.5348\n",
      "Epoch 28, CIFAR-10 Batch 1:  Cost: 0.95139706\n",
      "Validation_Accuracy: 0.5372\n",
      "Epoch 28, CIFAR-10 Batch 2:  Cost: 0.7376393\n",
      "Validation_Accuracy: 0.542\n",
      "Epoch 28, CIFAR-10 Batch 3:  Cost: 0.48443013\n",
      "Validation_Accuracy: 0.5406\n",
      "Epoch 28, CIFAR-10 Batch 4:  Cost: 0.5692695\n",
      "Validation_Accuracy: 0.545\n",
      "Epoch 28, CIFAR-10 Batch 5:  Cost: 0.4827965\n",
      "Validation_Accuracy: 0.5372\n",
      "Epoch 29, CIFAR-10 Batch 1:  Cost: 0.9010407\n",
      "Validation_Accuracy: 0.5348\n",
      "Epoch 29, CIFAR-10 Batch 2:  Cost: 0.62031114\n",
      "Validation_Accuracy: 0.543\n",
      "Epoch 29, CIFAR-10 Batch 3:  Cost: 0.5118626\n",
      "Validation_Accuracy: 0.5414\n",
      "Epoch 29, CIFAR-10 Batch 4:  Cost: 0.5206988\n",
      "Validation_Accuracy: 0.5424\n",
      "Epoch 29, CIFAR-10 Batch 5:  Cost: 0.4822978\n",
      "Validation_Accuracy: 0.5372\n",
      "Epoch 30, CIFAR-10 Batch 1:  Cost: 0.93960065\n",
      "Validation_Accuracy: 0.5376\n",
      "Epoch 30, CIFAR-10 Batch 2:  Cost: 0.6631547\n",
      "Validation_Accuracy: 0.5494\n",
      "Epoch 30, CIFAR-10 Batch 3:  Cost: 0.50933814\n",
      "Validation_Accuracy: 0.5352\n",
      "Epoch 30, CIFAR-10 Batch 4:  Cost: 0.47426206\n",
      "Validation_Accuracy: 0.5434\n",
      "Epoch 30, CIFAR-10 Batch 5:  Cost: 0.55152303\n",
      "Validation_Accuracy: 0.5334\n"
     ]
    }
   ],
   "source": [
    "\"\"\"\n",
    "DON'T MODIFY ANYTHING IN THIS CELL\n",
    "\"\"\"\n",
    "save_model_path = './image_classification'\n",
    "\n",
    "print('Training...')\n",
    "with tf.Session() as sess:\n",
    "    # Initializing the variables\n",
    "    sess.run(tf.global_variables_initializer())\n",
    "    \n",
    "    # Training cycle\n",
    "    for epoch in range(epochs):\n",
    "        # Loop over all batches\n",
    "        n_batches = 5\n",
    "        for batch_i in range(1, n_batches + 1):\n",
    "            for batch_features, batch_labels in helper.load_preprocess_training_batch(batch_i, batch_size):\n",
    "                train_neural_network(sess, optimizer, keep_probability, batch_features, batch_labels)\n",
    "            print('Epoch {:>2}, CIFAR-10 Batch {}:  '.format(epoch + 1, batch_i), end='')\n",
    "            print_stats(sess, batch_features, batch_labels, cost, accuracy)\n",
    "            \n",
    "    # Save Model\n",
    "    saver = tf.train.Saver()\n",
    "    save_path = saver.save(sess, save_model_path)"
   ]
  },
  {
   "cell_type": "markdown",
   "metadata": {},
   "source": [
    "# Checkpoint\n",
    "The model has been saved to disk.\n",
    "## Test Model\n",
    "Test your model against the test dataset.  This will be your final accuracy. You should have an accuracy greater than 50%. If you don't, keep tweaking the model architecture and parameters."
   ]
  },
  {
   "cell_type": "code",
   "execution_count": 22,
   "metadata": {},
   "outputs": [
    {
     "name": "stdout",
     "output_type": "stream",
     "text": [
      "INFO:tensorflow:Restoring parameters from ./image_classification\n",
      "Testing Accuracy: 0.5374203821656051\n",
      "\n"
     ]
    },
    {
     "data": {
      "image/png": "[encoded data removed]",
      "text/plain": [
       "<Figure size 432x288 with 8 Axes>"
      ]
     },
     "metadata": {
      "image/png": {
       "height": 319,
       "width": 355
      },
      "needs_background": "light"
     },
     "output_type": "display_data"
    }
   ],
   "source": [
    "\"\"\"\n",
    "DON'T MODIFY ANYTHING IN THIS CELL\n",
    "\"\"\"\n",
    "%matplotlib inline\n",
    "%config InlineBackend.figure_format = 'retina'\n",
    "\n",
    "import tensorflow as tf\n",
    "import pickle\n",
    "import helper\n",
    "import random\n",
    "\n",
    "# Set batch size if not already set\n",
    "try:\n",
    "    if batch_size:\n",
    "        pass\n",
    "except NameError:\n",
    "    batch_size = 64\n",
    "\n",
    "save_model_path = './image_classification'\n",
    "n_samples = 4\n",
    "top_n_predictions = 3\n",
    "\n",
    "def test_model():\n",
    "    \"\"\"\n",
    "    Test the saved model against the test dataset\n",
    "    \"\"\"\n",
    "\n",
    "    test_features, test_labels = pickle.load(open('preprocess_training.p', mode='rb'))\n",
    "    loaded_graph = tf.Graph()\n",
    "\n",
    "    with tf.Session(graph=loaded_graph) as sess:\n",
    "        # Load model\n",
    "        loader = tf.train.import_meta_graph(save_model_path + '.meta')\n",
    "        loader.restore(sess, save_model_path)\n",
    "\n",
    "        # Get Tensors from loaded model\n",
    "        loaded_x = loaded_graph.get_tensor_by_name('x:0')\n",
    "        loaded_y = loaded_graph.get_tensor_by_name('y:0')\n",
    "        loaded_keep_prob = loaded_graph.get_tensor_by_name('keep_prob:0')\n",
    "        loaded_logits = loaded_graph.get_tensor_by_name('logits:0')\n",
    "        loaded_acc = loaded_graph.get_tensor_by_name('accuracy:0')\n",
    "        \n",
    "        # Get accuracy in batches for memory limitations\n",
    "        test_batch_acc_total = 0\n",
    "        test_batch_count = 0\n",
    "        \n",
    "        for train_feature_batch, train_label_batch in helper.batch_features_labels(test_features, test_labels, batch_size):\n",
    "            test_batch_acc_total += sess.run(\n",
    "                loaded_acc,\n",
    "                feed_dict={loaded_x: train_feature_batch, loaded_y: train_label_batch, loaded_keep_prob: 1.0})\n",
    "            test_batch_count += 1\n",
    "\n",
    "        print('Testing Accuracy: {}\\n'.format(test_batch_acc_total/test_batch_count))\n",
    "\n",
    "        # Print Random Samples\n",
    "        random_test_features, random_test_labels = tuple(zip(*random.sample(list(zip(test_features, test_labels)), n_samples)))\n",
    "        random_test_predictions = sess.run(\n",
    "            tf.nn.top_k(tf.nn.softmax(loaded_logits), top_n_predictions),\n",
    "            feed_dict={loaded_x: random_test_features, loaded_y: random_test_labels, loaded_keep_prob: 1.0})\n",
    "        helper.display_image_predictions(random_test_features, random_test_labels, random_test_predictions)\n",
    "\n",
    "\n",
    "test_model()"
   ]
  },
  {
   "cell_type": "markdown",
   "metadata": {},
   "source": [
    "## Why 50-80% Accuracy?\n",
    "You might be wondering why you can't get an accuracy any higher. First things first, 50% isn't bad for a simple CNN.  Pure guessing would get you 10% accuracy. However, you might notice people are getting scores [well above 80%](http://rodrigob.github.io/are_we_there_yet/build/classification_datasets_results.html#43494641522d3130).  That's because we haven't taught you all there is to know about neural networks. We still need to cover a few more techniques.\n",
    "## Submitting This Project\n",
    "When submitting this project, make sure to run all the cells before saving the notebook.  Save the notebook file as \"dlnd_image_classification.ipynb\" and save it as a HTML file under \"File\" -> \"Download as\".  Include the \"helper.py\" and \"problem_unittests.py\" files in your submission."
   ]
  }
 ],
 "metadata": {
  "kernelspec": {
   "display_name": "Python 3",
   "language": "python",
   "name": "python3"
  },
  "language_info": {
   "codemirror_mode": {
    "name": "ipython",
    "version": 3
   },
   "file_extension": ".py",
   "mimetype": "text/x-python",
   "name": "python",
   "nbconvert_exporter": "python",
   "pygments_lexer": "ipython3",
   "version": "3.5.6"
  },
  "widgets": {
   "state": {},
   "version": "1.1.2"
  }
 },
 "nbformat": 4,
 "nbformat_minor": 1
}
